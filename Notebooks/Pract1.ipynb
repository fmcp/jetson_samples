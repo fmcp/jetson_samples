{
  "nbformat": 4,
  "nbformat_minor": 0,
  "metadata": {
    "colab": {
      "name": "Pract1.ipynb",
      "provenance": [],
      "collapsed_sections": []
    },
    "kernelspec": {
      "name": "python3",
      "display_name": "Python 3"
    },
    "accelerator": "GPU"
  },
  "cells": [
    {
      "cell_type": "markdown",
      "metadata": {
        "id": "LT_hA0YYSc84"
      },
      "source": [
        "Este ejemplo muestra, con Keras y Tensorflow, cómo entrenar un modelo definido por nosotros con datos descargados desde la librería Keras."
      ]
    },
    {
      "cell_type": "code",
      "metadata": {
        "id": "00IHeD31T11u",
        "colab": {
          "base_uri": "https://localhost:8080/"
        },
        "outputId": "c076bb87-e0c6-4cf7-e2bd-0abd28e9547a"
      },
      "source": [
        "import tensorflow as tf\n",
        "print(tf.__version__)"
      ],
      "execution_count": null,
      "outputs": [
        {
          "output_type": "stream",
          "text": [
            "2.4.1\n"
          ],
          "name": "stdout"
        }
      ]
    },
    {
      "cell_type": "code",
      "metadata": {
        "id": "0nVObatMICGp"
      },
      "source": [
        "import numpy as np\n",
        "import matplotlib.pyplot as plt\n",
        "from keras.datasets import mnist\n",
        "from keras.models import Sequential\n",
        "from keras.layers.core import Dense, Activation, Dropout\n",
        "from keras.optimizers import SGD, Adagrad, Adadelta\n",
        "from keras.utils import np_utils\n",
        "from keras.callbacks import LearningRateScheduler\n",
        "import os"
      ],
      "execution_count": null,
      "outputs": []
    },
    {
      "cell_type": "markdown",
      "metadata": {
        "id": "qBDWetHqSo6e"
      },
      "source": [
        "Decargamos el dataset con la librería Keras:"
      ]
    },
    {
      "cell_type": "code",
      "metadata": {
        "id": "-eliHSfCT4D9"
      },
      "source": [
        "mnist = tf.keras.datasets.fashion_mnist"
      ],
      "execution_count": null,
      "outputs": []
    },
    {
      "cell_type": "markdown",
      "metadata": {
        "id": "uSMXa5CwuK2Y"
      },
      "source": [
        "Cargamos el dataset localmente:"
      ]
    },
    {
      "cell_type": "code",
      "metadata": {
        "id": "6AaT09KdT5dr",
        "colab": {
          "base_uri": "https://localhost:8080/"
        },
        "outputId": "2af8d226-640a-48fd-e32a-6253a46dd852"
      },
      "source": [
        "(x_train, y_train),(x_test, y_test) = mnist.load_data()"
      ],
      "execution_count": null,
      "outputs": [
        {
          "output_type": "stream",
          "text": [
            "Downloading data from https://storage.googleapis.com/tensorflow/tf-keras-datasets/train-labels-idx1-ubyte.gz\n",
            "32768/29515 [=================================] - 0s 0us/step\n",
            "Downloading data from https://storage.googleapis.com/tensorflow/tf-keras-datasets/train-images-idx3-ubyte.gz\n",
            "26427392/26421880 [==============================] - 0s 0us/step\n",
            "Downloading data from https://storage.googleapis.com/tensorflow/tf-keras-datasets/t10k-labels-idx1-ubyte.gz\n",
            "8192/5148 [===============================================] - 0s 0us/step\n",
            "Downloading data from https://storage.googleapis.com/tensorflow/tf-keras-datasets/t10k-images-idx3-ubyte.gz\n",
            "4423680/4422102 [==============================] - 0s 0us/step\n"
          ],
          "name": "stdout"
        }
      ]
    },
    {
      "cell_type": "code",
      "metadata": {
        "colab": {
          "base_uri": "https://localhost:8080/"
        },
        "id": "c0yuIPe5mWBB",
        "outputId": "7e72cb4d-3a4f-412e-9c50-39f6804eb673"
      },
      "source": [
        "x_train[0].shape"
      ],
      "execution_count": null,
      "outputs": [
        {
          "output_type": "execute_result",
          "data": {
            "text/plain": [
              "(28, 28)"
            ]
          },
          "metadata": {
            "tags": []
          },
          "execution_count": 5
        }
      ]
    },
    {
      "cell_type": "markdown",
      "metadata": {
        "id": "LBPmarFduNMH"
      },
      "source": [
        "Vamos a visualizar una de las muestras y la clase a la que pertenece:"
      ]
    },
    {
      "cell_type": "code",
      "metadata": {
        "id": "eBWWiNKQT77V",
        "colab": {
          "base_uri": "https://localhost:8080/",
          "height": 283
        },
        "outputId": "6ad7e0ce-ab87-4e3b-941b-7e828d8cf989"
      },
      "source": [
        "import matplotlib.pyplot as plt\n",
        "plt.imshow(x_train[0])\n",
        "print(y_train[0])"
      ],
      "execution_count": null,
      "outputs": [
        {
          "output_type": "stream",
          "text": [
            "9\n"
          ],
          "name": "stdout"
        },
        {
          "output_type": "display_data",
          "data": {
            "image/png": "[encoded data removed]",
            "text/plain": [
              "<Figure size 432x288 with 1 Axes>"
            ]
          },
          "metadata": {
            "tags": [],
            "needs_background": "light"
          }
        }
      ]
    },
    {
      "cell_type": "markdown",
      "metadata": {
        "id": "6hNXAjV_SxBc"
      },
      "source": [
        "Normalizamos las imágenes para que estén entre los valores 0 y 1:"
      ]
    },
    {
      "cell_type": "code",
      "metadata": {
        "id": "uPklN-NlGp2Q"
      },
      "source": [
        "x_train  = x_train / 255.0\n",
        "x_test = x_test / 255.0"
      ],
      "execution_count": null,
      "outputs": []
    },
    {
      "cell_type": "code",
      "metadata": {
        "id": "_ICFN-MUG2F9"
      },
      "source": [
        "# Hiperparámetros: parámetros no optimizables por el algoritmo de retropropagación\n",
        "# Suelen fijarse mediante ensayo y error y mediante experiencia\n",
        "\n",
        "NB_EPOCH = 100       # numero de epocas de entrenamiento\n",
        "VALIDATION_SPLIT=0.2 # how much TRAIN is reserved for VALIDATION"
      ],
      "execution_count": null,
      "outputs": []
    },
    {
      "cell_type": "markdown",
      "metadata": {
        "id": "HR9qYNacS3cr"
      },
      "source": [
        "Definiremos un modelo muy simple con una capa Flatten (para convertir la imagen, con forma de matriz, en un array unidimensional) y dos capas Dense, o Fully-Connected.\r\n",
        "\r\n",
        "Compilamos el modelo indicando su optimizador, función de loss y métrica, e iniciamos el entrenamiento."
      ]
    },
    {
      "cell_type": "code",
      "metadata": {
        "id": "Czby5KBaeWuO",
        "colab": {
          "base_uri": "https://localhost:8080/"
        },
        "outputId": "4201eea0-1d94-437e-eb40-701abc870904"
      },
      "source": [
        "model = tf.keras.models.Sequential([\n",
        "  tf.keras.layers.Flatten(input_shape=(28, 28)),\n",
        "  tf.keras.layers.Dense(512, activation=tf.nn.relu),\n",
        "  tf.keras.layers.Dense(10, activation=tf.nn.softmax)\n",
        "])\n",
        "model.compile(optimizer='adam',\n",
        "              loss='sparse_categorical_crossentropy',\n",
        "              metrics=['accuracy'])\n",
        "\n",
        "history = model.fit(x_train, y_train, epochs=100, validation_split=VALIDATION_SPLIT)"
      ],
      "execution_count": null,
      "outputs": [
        {
          "output_type": "stream",
          "text": [
            "Epoch 1/100\n",
            "1500/1500 [==============================] - 5s 2ms/step - loss: 0.6169 - accuracy: 0.7849 - val_loss: 0.4394 - val_accuracy: 0.8388\n",
            "Epoch 2/100\n",
            "1500/1500 [==============================] - 3s 2ms/step - loss: 0.3797 - accuracy: 0.8616 - val_loss: 0.3822 - val_accuracy: 0.8614\n",
            "Epoch 3/100\n",
            "1500/1500 [==============================] - 3s 2ms/step - loss: 0.3304 - accuracy: 0.8762 - val_loss: 0.3612 - val_accuracy: 0.8697\n",
            "Epoch 4/100\n",
            "1500/1500 [==============================] - 3s 2ms/step - loss: 0.3048 - accuracy: 0.8895 - val_loss: 0.3754 - val_accuracy: 0.8612\n",
            "Epoch 5/100\n",
            "1500/1500 [==============================] - 3s 2ms/step - loss: 0.2830 - accuracy: 0.8928 - val_loss: 0.3304 - val_accuracy: 0.8847\n",
            "Epoch 6/100\n",
            "1500/1500 [==============================] - 3s 2ms/step - loss: 0.2659 - accuracy: 0.9028 - val_loss: 0.3238 - val_accuracy: 0.8876\n",
            "Epoch 7/100\n",
            "1500/1500 [==============================] - 3s 2ms/step - loss: 0.2494 - accuracy: 0.9071 - val_loss: 0.3294 - val_accuracy: 0.8857\n",
            "Epoch 8/100\n",
            "1500/1500 [==============================] - 3s 2ms/step - loss: 0.2383 - accuracy: 0.9126 - val_loss: 0.3230 - val_accuracy: 0.8872\n",
            "Epoch 9/100\n",
            "1500/1500 [==============================] - 3s 2ms/step - loss: 0.2352 - accuracy: 0.9110 - val_loss: 0.3178 - val_accuracy: 0.8913\n",
            "Epoch 10/100\n",
            "1500/1500 [==============================] - 3s 2ms/step - loss: 0.2236 - accuracy: 0.9146 - val_loss: 0.3169 - val_accuracy: 0.8905\n",
            "Epoch 11/100\n",
            "1500/1500 [==============================] - 3s 2ms/step - loss: 0.2096 - accuracy: 0.9212 - val_loss: 0.3255 - val_accuracy: 0.8901\n",
            "Epoch 12/100\n",
            "1500/1500 [==============================] - 3s 2ms/step - loss: 0.2047 - accuracy: 0.9242 - val_loss: 0.3213 - val_accuracy: 0.8908\n",
            "Epoch 13/100\n",
            "1500/1500 [==============================] - 3s 2ms/step - loss: 0.2012 - accuracy: 0.9242 - val_loss: 0.3263 - val_accuracy: 0.8953\n",
            "Epoch 14/100\n",
            "1500/1500 [==============================] - 3s 2ms/step - loss: 0.1909 - accuracy: 0.9289 - val_loss: 0.3130 - val_accuracy: 0.8926\n",
            "Epoch 15/100\n",
            "1500/1500 [==============================] - 3s 2ms/step - loss: 0.1793 - accuracy: 0.9305 - val_loss: 0.3348 - val_accuracy: 0.8928\n",
            "Epoch 16/100\n",
            "1500/1500 [==============================] - 3s 2ms/step - loss: 0.1762 - accuracy: 0.9337 - val_loss: 0.3387 - val_accuracy: 0.8920\n",
            "Epoch 17/100\n",
            "1500/1500 [==============================] - 3s 2ms/step - loss: 0.1670 - accuracy: 0.9361 - val_loss: 0.3407 - val_accuracy: 0.8902\n",
            "Epoch 18/100\n",
            "1500/1500 [==============================] - 3s 2ms/step - loss: 0.1645 - accuracy: 0.9400 - val_loss: 0.3348 - val_accuracy: 0.8924\n",
            "Epoch 19/100\n",
            "1500/1500 [==============================] - 3s 2ms/step - loss: 0.1607 - accuracy: 0.9385 - val_loss: 0.3588 - val_accuracy: 0.8872\n",
            "Epoch 20/100\n",
            "1500/1500 [==============================] - 3s 2ms/step - loss: 0.1518 - accuracy: 0.9435 - val_loss: 0.3649 - val_accuracy: 0.8899\n",
            "Epoch 21/100\n",
            "1500/1500 [==============================] - 3s 2ms/step - loss: 0.1544 - accuracy: 0.9415 - val_loss: 0.3532 - val_accuracy: 0.8942\n",
            "Epoch 22/100\n",
            "1500/1500 [==============================] - 3s 2ms/step - loss: 0.1454 - accuracy: 0.9461 - val_loss: 0.3748 - val_accuracy: 0.8919\n",
            "Epoch 23/100\n",
            "1500/1500 [==============================] - 3s 2ms/step - loss: 0.1390 - accuracy: 0.9469 - val_loss: 0.3915 - val_accuracy: 0.8892\n",
            "Epoch 24/100\n",
            "1500/1500 [==============================] - 3s 2ms/step - loss: 0.1408 - accuracy: 0.9480 - val_loss: 0.4075 - val_accuracy: 0.8843\n",
            "Epoch 25/100\n",
            "1500/1500 [==============================] - 3s 2ms/step - loss: 0.1289 - accuracy: 0.9516 - val_loss: 0.3662 - val_accuracy: 0.8962\n",
            "Epoch 26/100\n",
            "1500/1500 [==============================] - 3s 2ms/step - loss: 0.1260 - accuracy: 0.9546 - val_loss: 0.3852 - val_accuracy: 0.8913\n",
            "Epoch 27/100\n",
            "1500/1500 [==============================] - 3s 2ms/step - loss: 0.1211 - accuracy: 0.9539 - val_loss: 0.4254 - val_accuracy: 0.8903\n",
            "Epoch 28/100\n",
            "1500/1500 [==============================] - 3s 2ms/step - loss: 0.1194 - accuracy: 0.9560 - val_loss: 0.4133 - val_accuracy: 0.8907\n",
            "Epoch 29/100\n",
            "1500/1500 [==============================] - 3s 2ms/step - loss: 0.1210 - accuracy: 0.9525 - val_loss: 0.3852 - val_accuracy: 0.8955\n",
            "Epoch 30/100\n",
            "1500/1500 [==============================] - 3s 2ms/step - loss: 0.1142 - accuracy: 0.9575 - val_loss: 0.4059 - val_accuracy: 0.8928\n",
            "Epoch 31/100\n",
            "1500/1500 [==============================] - 3s 2ms/step - loss: 0.1067 - accuracy: 0.9588 - val_loss: 0.4048 - val_accuracy: 0.8957\n",
            "Epoch 32/100\n",
            "1500/1500 [==============================] - 3s 2ms/step - loss: 0.1092 - accuracy: 0.9580 - val_loss: 0.4186 - val_accuracy: 0.8940\n",
            "Epoch 33/100\n",
            "1500/1500 [==============================] - 3s 2ms/step - loss: 0.1034 - accuracy: 0.9607 - val_loss: 0.4286 - val_accuracy: 0.8942\n",
            "Epoch 34/100\n",
            "1500/1500 [==============================] - 3s 2ms/step - loss: 0.1033 - accuracy: 0.9620 - val_loss: 0.4388 - val_accuracy: 0.8913\n",
            "Epoch 35/100\n",
            "1500/1500 [==============================] - 3s 2ms/step - loss: 0.1009 - accuracy: 0.9629 - val_loss: 0.4222 - val_accuracy: 0.8947\n",
            "Epoch 36/100\n",
            "1500/1500 [==============================] - 3s 2ms/step - loss: 0.0932 - accuracy: 0.9649 - val_loss: 0.4477 - val_accuracy: 0.8927\n",
            "Epoch 37/100\n",
            "1500/1500 [==============================] - 3s 2ms/step - loss: 0.0981 - accuracy: 0.9630 - val_loss: 0.4646 - val_accuracy: 0.8901\n",
            "Epoch 38/100\n",
            "1500/1500 [==============================] - 3s 2ms/step - loss: 0.0933 - accuracy: 0.9655 - val_loss: 0.4631 - val_accuracy: 0.8940\n",
            "Epoch 39/100\n",
            "1500/1500 [==============================] - 3s 2ms/step - loss: 0.0877 - accuracy: 0.9672 - val_loss: 0.4625 - val_accuracy: 0.8945\n",
            "Epoch 40/100\n",
            "1500/1500 [==============================] - 3s 2ms/step - loss: 0.0877 - accuracy: 0.9671 - val_loss: 0.4515 - val_accuracy: 0.8955\n",
            "Epoch 41/100\n",
            "1500/1500 [==============================] - 3s 2ms/step - loss: 0.0884 - accuracy: 0.9675 - val_loss: 0.4492 - val_accuracy: 0.8953\n",
            "Epoch 42/100\n",
            "1500/1500 [==============================] - 3s 2ms/step - loss: 0.0821 - accuracy: 0.9695 - val_loss: 0.4889 - val_accuracy: 0.8941\n",
            "Epoch 43/100\n",
            "1500/1500 [==============================] - 3s 2ms/step - loss: 0.0826 - accuracy: 0.9693 - val_loss: 0.4927 - val_accuracy: 0.8947\n",
            "Epoch 44/100\n",
            "1500/1500 [==============================] - 3s 2ms/step - loss: 0.0790 - accuracy: 0.9703 - val_loss: 0.4926 - val_accuracy: 0.8914\n",
            "Epoch 45/100\n",
            "1500/1500 [==============================] - 3s 2ms/step - loss: 0.0767 - accuracy: 0.9711 - val_loss: 0.5216 - val_accuracy: 0.8952\n",
            "Epoch 46/100\n",
            "1500/1500 [==============================] - 3s 2ms/step - loss: 0.0807 - accuracy: 0.9692 - val_loss: 0.4791 - val_accuracy: 0.8951\n",
            "Epoch 47/100\n",
            "1500/1500 [==============================] - 3s 2ms/step - loss: 0.0722 - accuracy: 0.9732 - val_loss: 0.5071 - val_accuracy: 0.8938\n",
            "Epoch 48/100\n",
            "1500/1500 [==============================] - 3s 2ms/step - loss: 0.0734 - accuracy: 0.9718 - val_loss: 0.5151 - val_accuracy: 0.8957\n",
            "Epoch 49/100\n",
            "1500/1500 [==============================] - 3s 2ms/step - loss: 0.0686 - accuracy: 0.9743 - val_loss: 0.5297 - val_accuracy: 0.8946\n",
            "Epoch 50/100\n",
            "1500/1500 [==============================] - 3s 2ms/step - loss: 0.0739 - accuracy: 0.9716 - val_loss: 0.5074 - val_accuracy: 0.8994\n",
            "Epoch 51/100\n",
            "1500/1500 [==============================] - 3s 2ms/step - loss: 0.0677 - accuracy: 0.9751 - val_loss: 0.5424 - val_accuracy: 0.8967\n",
            "Epoch 52/100\n",
            "1500/1500 [==============================] - 3s 2ms/step - loss: 0.0664 - accuracy: 0.9749 - val_loss: 0.5564 - val_accuracy: 0.8909\n",
            "Epoch 53/100\n",
            "1500/1500 [==============================] - 3s 2ms/step - loss: 0.0717 - accuracy: 0.9736 - val_loss: 0.5315 - val_accuracy: 0.8954\n",
            "Epoch 54/100\n",
            "1500/1500 [==============================] - 3s 2ms/step - loss: 0.0617 - accuracy: 0.9773 - val_loss: 0.5849 - val_accuracy: 0.8878\n",
            "Epoch 55/100\n",
            "1500/1500 [==============================] - 3s 2ms/step - loss: 0.0688 - accuracy: 0.9740 - val_loss: 0.5383 - val_accuracy: 0.8953\n",
            "Epoch 56/100\n",
            "1500/1500 [==============================] - 3s 2ms/step - loss: 0.0587 - accuracy: 0.9790 - val_loss: 0.5805 - val_accuracy: 0.8927\n",
            "Epoch 57/100\n",
            "1500/1500 [==============================] - 3s 2ms/step - loss: 0.0631 - accuracy: 0.9763 - val_loss: 0.5677 - val_accuracy: 0.8951\n",
            "Epoch 58/100\n",
            "1500/1500 [==============================] - 3s 2ms/step - loss: 0.0639 - accuracy: 0.9764 - val_loss: 0.5833 - val_accuracy: 0.8952\n",
            "Epoch 59/100\n",
            "1500/1500 [==============================] - 3s 2ms/step - loss: 0.0579 - accuracy: 0.9789 - val_loss: 0.5684 - val_accuracy: 0.8918\n",
            "Epoch 60/100\n",
            "1500/1500 [==============================] - 3s 2ms/step - loss: 0.0600 - accuracy: 0.9768 - val_loss: 0.5577 - val_accuracy: 0.8967\n",
            "Epoch 61/100\n",
            "1500/1500 [==============================] - 3s 2ms/step - loss: 0.0538 - accuracy: 0.9795 - val_loss: 0.6108 - val_accuracy: 0.8914\n",
            "Epoch 62/100\n",
            "1500/1500 [==============================] - 3s 2ms/step - loss: 0.0651 - accuracy: 0.9779 - val_loss: 0.6175 - val_accuracy: 0.8932\n",
            "Epoch 63/100\n",
            "1500/1500 [==============================] - 3s 2ms/step - loss: 0.0558 - accuracy: 0.9790 - val_loss: 0.6008 - val_accuracy: 0.8915\n",
            "Epoch 64/100\n",
            "1500/1500 [==============================] - 3s 2ms/step - loss: 0.0566 - accuracy: 0.9794 - val_loss: 0.6554 - val_accuracy: 0.8906\n",
            "Epoch 65/100\n",
            "1500/1500 [==============================] - 3s 2ms/step - loss: 0.0599 - accuracy: 0.9784 - val_loss: 0.6667 - val_accuracy: 0.8888\n",
            "Epoch 66/100\n",
            "1500/1500 [==============================] - 3s 2ms/step - loss: 0.0530 - accuracy: 0.9806 - val_loss: 0.6206 - val_accuracy: 0.8948\n",
            "Epoch 67/100\n",
            "1500/1500 [==============================] - 3s 2ms/step - loss: 0.0510 - accuracy: 0.9826 - val_loss: 0.6535 - val_accuracy: 0.8933\n",
            "Epoch 68/100\n",
            "1500/1500 [==============================] - 3s 2ms/step - loss: 0.0504 - accuracy: 0.9816 - val_loss: 0.6286 - val_accuracy: 0.8945\n",
            "Epoch 69/100\n",
            "1500/1500 [==============================] - 3s 2ms/step - loss: 0.0505 - accuracy: 0.9808 - val_loss: 0.5861 - val_accuracy: 0.8986\n",
            "Epoch 70/100\n",
            "1500/1500 [==============================] - 3s 2ms/step - loss: 0.0441 - accuracy: 0.9831 - val_loss: 0.6257 - val_accuracy: 0.8963\n",
            "Epoch 71/100\n",
            "1500/1500 [==============================] - 3s 2ms/step - loss: 0.0455 - accuracy: 0.9829 - val_loss: 0.6534 - val_accuracy: 0.8913\n",
            "Epoch 72/100\n",
            "1500/1500 [==============================] - 3s 2ms/step - loss: 0.0489 - accuracy: 0.9817 - val_loss: 0.6370 - val_accuracy: 0.8963\n",
            "Epoch 73/100\n",
            "1500/1500 [==============================] - 3s 2ms/step - loss: 0.0473 - accuracy: 0.9832 - val_loss: 0.6524 - val_accuracy: 0.9007\n",
            "Epoch 74/100\n",
            "1500/1500 [==============================] - 3s 2ms/step - loss: 0.0496 - accuracy: 0.9818 - val_loss: 0.7322 - val_accuracy: 0.8918\n",
            "Epoch 75/100\n",
            "1500/1500 [==============================] - 3s 2ms/step - loss: 0.0527 - accuracy: 0.9806 - val_loss: 0.6968 - val_accuracy: 0.8935\n",
            "Epoch 76/100\n",
            "1500/1500 [==============================] - 3s 2ms/step - loss: 0.0490 - accuracy: 0.9821 - val_loss: 0.6797 - val_accuracy: 0.8949\n",
            "Epoch 77/100\n",
            "1500/1500 [==============================] - 3s 2ms/step - loss: 0.0422 - accuracy: 0.9849 - val_loss: 0.6710 - val_accuracy: 0.8936\n",
            "Epoch 78/100\n",
            "1500/1500 [==============================] - 3s 2ms/step - loss: 0.0444 - accuracy: 0.9829 - val_loss: 0.7324 - val_accuracy: 0.8926\n",
            "Epoch 79/100\n",
            "1500/1500 [==============================] - 3s 2ms/step - loss: 0.0418 - accuracy: 0.9849 - val_loss: 0.6902 - val_accuracy: 0.8939\n",
            "Epoch 80/100\n",
            "1500/1500 [==============================] - 3s 2ms/step - loss: 0.0403 - accuracy: 0.9855 - val_loss: 0.7430 - val_accuracy: 0.8956\n",
            "Epoch 81/100\n",
            "1500/1500 [==============================] - 3s 2ms/step - loss: 0.0444 - accuracy: 0.9842 - val_loss: 0.6892 - val_accuracy: 0.8948\n",
            "Epoch 82/100\n",
            "1500/1500 [==============================] - 3s 2ms/step - loss: 0.0403 - accuracy: 0.9849 - val_loss: 0.7213 - val_accuracy: 0.8928\n",
            "Epoch 83/100\n",
            "1500/1500 [==============================] - 3s 2ms/step - loss: 0.0423 - accuracy: 0.9842 - val_loss: 0.6744 - val_accuracy: 0.8961\n",
            "Epoch 84/100\n",
            "1500/1500 [==============================] - 3s 2ms/step - loss: 0.0378 - accuracy: 0.9862 - val_loss: 0.7505 - val_accuracy: 0.8904\n",
            "Epoch 85/100\n",
            "1500/1500 [==============================] - 3s 2ms/step - loss: 0.0429 - accuracy: 0.9843 - val_loss: 0.7377 - val_accuracy: 0.8930\n",
            "Epoch 86/100\n",
            "1500/1500 [==============================] - 3s 2ms/step - loss: 0.0365 - accuracy: 0.9864 - val_loss: 0.7676 - val_accuracy: 0.8947\n",
            "Epoch 87/100\n",
            "1500/1500 [==============================] - 3s 2ms/step - loss: 0.0413 - accuracy: 0.9865 - val_loss: 0.7057 - val_accuracy: 0.8957\n",
            "Epoch 88/100\n",
            "1500/1500 [==============================] - 3s 2ms/step - loss: 0.0436 - accuracy: 0.9848 - val_loss: 0.7456 - val_accuracy: 0.8909\n",
            "Epoch 89/100\n",
            "1500/1500 [==============================] - 3s 2ms/step - loss: 0.0342 - accuracy: 0.9881 - val_loss: 0.7325 - val_accuracy: 0.8940\n",
            "Epoch 90/100\n",
            "1500/1500 [==============================] - 3s 2ms/step - loss: 0.0414 - accuracy: 0.9853 - val_loss: 0.7653 - val_accuracy: 0.8898\n",
            "Epoch 91/100\n",
            "1500/1500 [==============================] - 3s 2ms/step - loss: 0.0435 - accuracy: 0.9843 - val_loss: 0.7992 - val_accuracy: 0.8945\n",
            "Epoch 92/100\n",
            "1500/1500 [==============================] - 3s 2ms/step - loss: 0.0348 - accuracy: 0.9869 - val_loss: 0.7861 - val_accuracy: 0.8930\n",
            "Epoch 93/100\n",
            "1500/1500 [==============================] - 3s 2ms/step - loss: 0.0362 - accuracy: 0.9872 - val_loss: 0.8389 - val_accuracy: 0.8838\n",
            "Epoch 94/100\n",
            "1500/1500 [==============================] - 3s 2ms/step - loss: 0.0431 - accuracy: 0.9848 - val_loss: 0.8087 - val_accuracy: 0.8935\n",
            "Epoch 95/100\n",
            "1500/1500 [==============================] - 3s 2ms/step - loss: 0.0332 - accuracy: 0.9878 - val_loss: 0.7901 - val_accuracy: 0.8940\n",
            "Epoch 96/100\n",
            "1500/1500 [==============================] - 3s 2ms/step - loss: 0.0354 - accuracy: 0.9876 - val_loss: 0.7902 - val_accuracy: 0.8903\n",
            "Epoch 97/100\n",
            "1500/1500 [==============================] - 3s 2ms/step - loss: 0.0366 - accuracy: 0.9859 - val_loss: 0.7626 - val_accuracy: 0.8947\n",
            "Epoch 98/100\n",
            "1500/1500 [==============================] - 3s 2ms/step - loss: 0.0314 - accuracy: 0.9884 - val_loss: 0.7904 - val_accuracy: 0.8966\n",
            "Epoch 99/100\n",
            "1500/1500 [==============================] - 3s 2ms/step - loss: 0.0349 - accuracy: 0.9869 - val_loss: 0.7743 - val_accuracy: 0.8953\n",
            "Epoch 100/100\n",
            "1500/1500 [==============================] - 3s 2ms/step - loss: 0.0299 - accuracy: 0.9888 - val_loss: 0.7705 - val_accuracy: 0.8941\n"
          ],
          "name": "stdout"
        }
      ]
    },
    {
      "cell_type": "markdown",
      "metadata": {
        "id": "UuZuP_gwTLqv"
      },
      "source": [
        "Con el conjunto de test, evaluamos el modelo entrenado:"
      ]
    },
    {
      "cell_type": "code",
      "metadata": {
        "id": "jag5mt9WetSw",
        "colab": {
          "base_uri": "https://localhost:8080/"
        },
        "outputId": "bed1a2f1-c870-4d95-b95c-f174e4518ca3"
      },
      "source": [
        "model.evaluate(x_test, y_test)"
      ],
      "execution_count": null,
      "outputs": [
        {
          "output_type": "stream",
          "text": [
            "313/313 [==============================] - 1s 2ms/step - loss: 0.9186 - accuracy: 0.8868\n"
          ],
          "name": "stdout"
        },
        {
          "output_type": "execute_result",
          "data": {
            "text/plain": [
              "[0.9185804724693298, 0.8867999911308289]"
            ]
          },
          "metadata": {
            "tags": []
          },
          "execution_count": 10
        }
      ]
    },
    {
      "cell_type": "markdown",
      "metadata": {
        "id": "wJVCHyusTxl5"
      },
      "source": [
        "Con las siguientes gráficas podemos concluir que el modelo entrenado sufre de overfitting:"
      ]
    },
    {
      "cell_type": "code",
      "metadata": {
        "id": "vfp-QtYLty9x",
        "colab": {
          "base_uri": "https://localhost:8080/",
          "height": 295
        },
        "outputId": "f4e9908c-7acf-4884-fbf3-4b0bef843302"
      },
      "source": [
        "# summarize history for accuracy\n",
        "plt.plot(history.history['accuracy'])\n",
        "plt.plot(history.history['val_accuracy'])\n",
        "plt.title('model accuracy')\n",
        "plt.ylabel('accuracy')\n",
        "plt.xlabel('epoch')\n",
        "plt.legend(['train', 'test'], loc='upper left')\n",
        "plt.show()"
      ],
      "execution_count": null,
      "outputs": [
        {
          "output_type": "display_data",
          "data": {
            "image/png": "[encoded data removed]",
            "text/plain": [
              "<Figure size 432x288 with 1 Axes>"
            ]
          },
          "metadata": {
            "tags": [],
            "needs_background": "light"
          }
        }
      ]
    },
    {
      "cell_type": "code",
      "metadata": {
        "id": "3LRcr7g6t14K",
        "colab": {
          "base_uri": "https://localhost:8080/",
          "height": 295
        },
        "outputId": "136cf576-37d3-489d-9f7c-94640fc79e26"
      },
      "source": [
        "# summarize history for loss\n",
        "plt.plot(history.history['loss'])\n",
        "plt.plot(history.history['val_loss'])\n",
        "plt.title('model loss')\n",
        "plt.ylabel('loss')\n",
        "plt.xlabel('epoch')\n",
        "plt.legend(['train', 'test'], loc='upper left')\n",
        "plt.show()"
      ],
      "execution_count": null,
      "outputs": [
        {
          "output_type": "display_data",
          "data": {
            "image/png": "[encoded data removed]",
            "text/plain": [
              "<Figure size 432x288 with 1 Axes>"
            ]
          },
          "metadata": {
            "tags": [],
            "needs_background": "light"
          }
        }
      ]
    },
    {
      "cell_type": "code",
      "metadata": {
        "colab": {
          "base_uri": "https://localhost:8080/"
        },
        "id": "CRqwWGidmkue",
        "outputId": "c8968038-3201-4290-e272-e854cdcce0ae"
      },
      "source": [
        "from google.colab import drive\r\n",
        "drive.mount(\"/content/gdrive\")"
      ],
      "execution_count": null,
      "outputs": [
        {
          "output_type": "stream",
          "text": [
            "Mounted at /content/gdrive\n"
          ],
          "name": "stdout"
        }
      ]
    },
    {
      "cell_type": "code",
      "metadata": {
        "id": "QxFejN5pt3ib",
        "colab": {
          "base_uri": "https://localhost:8080/"
        },
        "outputId": "2daad78a-48fa-46c3-8ae3-bd464c93d428"
      },
      "source": [
        "OUT_MODEL_PATH= '/content/gdrive/MyDrive/Curso-Jetson/models'\r\n",
        "model.save(os.path.join(OUT_MODEL_PATH, 'model-final-pract1.hdf5'))\r\n",
        "model.save(os.path.join(OUT_MODEL_PATH, 'model-final-pract1'))"
      ],
      "execution_count": null,
      "outputs": [
        {
          "output_type": "stream",
          "text": [
            "INFO:tensorflow:Assets written to: /content/gdrive/MyDrive/Curso-Jetson/models/model-final-pract1/assets\n"
          ],
          "name": "stdout"
        }
      ]
    },
    {
      "cell_type": "code",
      "metadata": {
        "colab": {
          "base_uri": "https://localhost:8080/"
        },
        "id": "xoe8ZdCEjjD1",
        "outputId": "d929c268-2e5b-4fa8-fc5b-0b12bba88668"
      },
      "source": [
        "!ls '/content/gdrive/MyDrive/Curso-Jetson/models'"
      ],
      "execution_count": null,
      "outputs": [
        {
          "output_type": "stream",
          "text": [
            "model-final-pract1  model-final-pract1.hdf5  model-final-pract2.hdf5\n"
          ],
          "name": "stdout"
        }
      ]
    },
    {
      "cell_type": "code",
      "metadata": {
        "id": "V0bTejfMrZmj"
      },
      "source": [
        ""
      ],
      "execution_count": null,
      "outputs": []
    }
  ]
}