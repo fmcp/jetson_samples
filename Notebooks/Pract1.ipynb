{
  "nbformat": 4,
  "nbformat_minor": 0,
  "metadata": {
    "colab": {
      "name": "Pract1.ipynb",
      "provenance": [],
      "collapsed_sections": []
    },
    "kernelspec": {
      "name": "python3",
      "display_name": "Python 3"
    },
    "accelerator": "GPU"
  },
  "cells": [
    {
      "cell_type": "markdown",
      "metadata": {
        "id": "LT_hA0YYSc84"
      },
      "source": [
        "Este ejemplo muestra, con Keras y Tensorflow, cómo entrenar un modelo definido por nosotros con datos descargados desde la librería Keras."
      ]
    },
    {
      "cell_type": "code",
      "metadata": {
        "id": "00IHeD31T11u",
        "colab": {
          "base_uri": "https://localhost:8080/"
        },
        "outputId": "5f79a0dc-65d7-4e75-e6bd-7be5fd693bd6"
      },
      "source": [
        "import tensorflow as tf\n",
        "print(tf.__version__)"
      ],
      "execution_count": null,
      "outputs": [
        {
          "output_type": "stream",
          "text": [
            "2.4.1\n"
          ],
          "name": "stdout"
        }
      ]
    },
    {
      "cell_type": "code",
      "metadata": {
        "id": "0nVObatMICGp"
      },
      "source": [
        "import numpy as np\n",
        "import matplotlib.pyplot as plt\n",
        "from keras.datasets import mnist\n",
        "from keras.models import Sequential\n",
        "from keras.layers.core import Dense, Activation, Dropout\n",
        "from keras.optimizers import SGD, Adagrad, Adadelta\n",
        "from keras.utils import np_utils\n",
        "from keras.callbacks import LearningRateScheduler\n",
        "import os"
      ],
      "execution_count": null,
      "outputs": []
    },
    {
      "cell_type": "markdown",
      "metadata": {
        "id": "qBDWetHqSo6e"
      },
      "source": [
        "Decargamos el dataset con la librería Keras:"
      ]
    },
    {
      "cell_type": "code",
      "metadata": {
        "id": "-eliHSfCT4D9"
      },
      "source": [
        "mnist = tf.keras.datasets.fashion_mnist"
      ],
      "execution_count": null,
      "outputs": []
    },
    {
      "cell_type": "markdown",
      "metadata": {
        "id": "uSMXa5CwuK2Y"
      },
      "source": [
        "Cargamos el dataset localmente:"
      ]
    },
    {
      "cell_type": "code",
      "metadata": {
        "id": "6AaT09KdT5dr",
        "colab": {
          "base_uri": "https://localhost:8080/"
        },
        "outputId": "21d5dce6-da62-44e0-98a2-36cdc7489529"
      },
      "source": [
        "(x_train, y_train),(x_test, y_test) = mnist.load_data()"
      ],
      "execution_count": null,
      "outputs": [
        {
          "output_type": "stream",
          "text": [
            "Downloading data from https://storage.googleapis.com/tensorflow/tf-keras-datasets/train-labels-idx1-ubyte.gz\n",
            "32768/29515 [=================================] - 0s 0us/step\n",
            "Downloading data from https://storage.googleapis.com/tensorflow/tf-keras-datasets/train-images-idx3-ubyte.gz\n",
            "26427392/26421880 [==============================] - 0s 0us/step\n",
            "Downloading data from https://storage.googleapis.com/tensorflow/tf-keras-datasets/t10k-labels-idx1-ubyte.gz\n",
            "8192/5148 [===============================================] - 0s 0us/step\n",
            "Downloading data from https://storage.googleapis.com/tensorflow/tf-keras-datasets/t10k-images-idx3-ubyte.gz\n",
            "4423680/4422102 [==============================] - 0s 0us/step\n"
          ],
          "name": "stdout"
        }
      ]
    },
    {
      "cell_type": "code",
      "metadata": {
        "colab": {
          "base_uri": "https://localhost:8080/"
        },
        "id": "c0yuIPe5mWBB",
        "outputId": "5722f728-084e-45ee-a746-e0eb9c2ab763"
      },
      "source": [
        "x_train[0].shape"
      ],
      "execution_count": null,
      "outputs": [
        {
          "output_type": "execute_result",
          "data": {
            "text/plain": [
              "(28, 28)"
            ]
          },
          "metadata": {
            "tags": []
          },
          "execution_count": 5
        }
      ]
    },
    {
      "cell_type": "markdown",
      "metadata": {
        "id": "LBPmarFduNMH"
      },
      "source": [
        "Vamos a visualizar una de las muestras y la clase a la que pertenece:"
      ]
    },
    {
      "cell_type": "code",
      "metadata": {
        "id": "eBWWiNKQT77V",
        "colab": {
          "base_uri": "https://localhost:8080/",
          "height": 283
        },
        "outputId": "8262dd92-05e8-45a0-ee40-f3f87471f1a5"
      },
      "source": [
        "import matplotlib.pyplot as plt\n",
        "plt.imshow(x_train[0])\n",
        "print(y_train[0])"
      ],
      "execution_count": null,
      "outputs": [
        {
          "output_type": "stream",
          "text": [
            "9\n"
          ],
          "name": "stdout"
        },
        {
          "output_type": "display_data",
          "data": {
            "image/png": "[encoded data removed]",
            "text/plain": [
              "<Figure size 432x288 with 1 Axes>"
            ]
          },
          "metadata": {
            "tags": [],
            "needs_background": "light"
          }
        }
      ]
    },
    {
      "cell_type": "markdown",
      "metadata": {
        "id": "6hNXAjV_SxBc"
      },
      "source": [
        "Normalizamos las imágenes para que estén entre los valores 0 y 1:"
      ]
    },
    {
      "cell_type": "code",
      "metadata": {
        "id": "uPklN-NlGp2Q"
      },
      "source": [
        "x_train  = x_train / 255.0\n",
        "x_test = x_test / 255.0"
      ],
      "execution_count": null,
      "outputs": []
    },
    {
      "cell_type": "code",
      "metadata": {
        "id": "_ICFN-MUG2F9"
      },
      "source": [
        "# Hiperparámetros: parámetros no optimizables por el algoritmo de retropropagación\n",
        "# Suelen fijarse mediante ensayo y error y mediante experiencia\n",
        "\n",
        "NB_EPOCH = 100       # numero de epocas de entrenamiento\n",
        "VALIDATION_SPLIT=0.2 # how much TRAIN is reserved for VALIDATION"
      ],
      "execution_count": null,
      "outputs": []
    },
    {
      "cell_type": "markdown",
      "metadata": {
        "id": "HR9qYNacS3cr"
      },
      "source": [
        "Definiremos un modelo muy simple con una capa Flatten (para convertir la imagen, con forma de matriz, en un array unidimensional) y dos capas Dense, o Fully-Connected.\r\n",
        "\r\n",
        "Compilamos el modelo indicando su optimizador, función de loss y métrica, e iniciamos el entrenamiento."
      ]
    },
    {
      "cell_type": "code",
      "metadata": {
        "id": "Czby5KBaeWuO",
        "colab": {
          "base_uri": "https://localhost:8080/"
        },
        "outputId": "2001c21f-9038-43be-d472-852e0d9755c9"
      },
      "source": [
        "model = tf.keras.models.Sequential([\n",
        "  tf.keras.layers.Flatten(input_shape=(28, 28)),\n",
        "  tf.keras.layers.Dense(512, activation=tf.nn.relu),\n",
        "  tf.keras.layers.Dense(10, activation=tf.nn.softmax)\n",
        "])\n",
        "model.compile(optimizer='adam',\n",
        "              loss='sparse_categorical_crossentropy',\n",
        "              metrics=['accuracy'])\n",
        "\n",
        "history = model.fit(x_train, y_train, epochs=100, validation_split=VALIDATION_SPLIT)"
      ],
      "execution_count": null,
      "outputs": [
        {
          "output_type": "stream",
          "text": [
            "Epoch 1/100\n",
            "1500/1500 [==============================] - 5s 2ms/step - loss: 0.6119 - accuracy: 0.7841 - val_loss: 0.4215 - val_accuracy: 0.8449\n",
            "Epoch 2/100\n",
            "1500/1500 [==============================] - 3s 2ms/step - loss: 0.3841 - accuracy: 0.8612 - val_loss: 0.3604 - val_accuracy: 0.8678\n",
            "Epoch 3/100\n",
            "1500/1500 [==============================] - 3s 2ms/step - loss: 0.3325 - accuracy: 0.8789 - val_loss: 0.3652 - val_accuracy: 0.8673\n",
            "Epoch 4/100\n",
            "1500/1500 [==============================] - 3s 2ms/step - loss: 0.3110 - accuracy: 0.8823 - val_loss: 0.3147 - val_accuracy: 0.8867\n",
            "Epoch 5/100\n",
            "1500/1500 [==============================] - 3s 2ms/step - loss: 0.2847 - accuracy: 0.8938 - val_loss: 0.3290 - val_accuracy: 0.8801\n",
            "Epoch 6/100\n",
            "1500/1500 [==============================] - 3s 2ms/step - loss: 0.2672 - accuracy: 0.8999 - val_loss: 0.3515 - val_accuracy: 0.8702\n",
            "Epoch 7/100\n",
            "1500/1500 [==============================] - 3s 2ms/step - loss: 0.2476 - accuracy: 0.9067 - val_loss: 0.3196 - val_accuracy: 0.8858\n",
            "Epoch 8/100\n",
            "1500/1500 [==============================] - 3s 2ms/step - loss: 0.2451 - accuracy: 0.9080 - val_loss: 0.3443 - val_accuracy: 0.8803\n",
            "Epoch 9/100\n",
            "1500/1500 [==============================] - 3s 2ms/step - loss: 0.2287 - accuracy: 0.9150 - val_loss: 0.3243 - val_accuracy: 0.8878\n",
            "Epoch 10/100\n",
            "1500/1500 [==============================] - 3s 2ms/step - loss: 0.2251 - accuracy: 0.9154 - val_loss: 0.3152 - val_accuracy: 0.8940\n",
            "Epoch 11/100\n",
            "1500/1500 [==============================] - 3s 2ms/step - loss: 0.2074 - accuracy: 0.9218 - val_loss: 0.3182 - val_accuracy: 0.8898\n",
            "Epoch 12/100\n",
            "1500/1500 [==============================] - 3s 2ms/step - loss: 0.2103 - accuracy: 0.9209 - val_loss: 0.3098 - val_accuracy: 0.8949\n",
            "Epoch 13/100\n",
            "1500/1500 [==============================] - 3s 2ms/step - loss: 0.1942 - accuracy: 0.9270 - val_loss: 0.3238 - val_accuracy: 0.8913\n",
            "Epoch 14/100\n",
            "1500/1500 [==============================] - 3s 2ms/step - loss: 0.1842 - accuracy: 0.9310 - val_loss: 0.3268 - val_accuracy: 0.8911\n",
            "Epoch 15/100\n",
            "1500/1500 [==============================] - 3s 2ms/step - loss: 0.1828 - accuracy: 0.9313 - val_loss: 0.3594 - val_accuracy: 0.8817\n",
            "Epoch 16/100\n",
            "1500/1500 [==============================] - 3s 2ms/step - loss: 0.1728 - accuracy: 0.9357 - val_loss: 0.3384 - val_accuracy: 0.8937\n",
            "Epoch 17/100\n",
            "1500/1500 [==============================] - 3s 2ms/step - loss: 0.1633 - accuracy: 0.9394 - val_loss: 0.3424 - val_accuracy: 0.8922\n",
            "Epoch 18/100\n",
            "1500/1500 [==============================] - 3s 2ms/step - loss: 0.1685 - accuracy: 0.9375 - val_loss: 0.3592 - val_accuracy: 0.8907\n",
            "Epoch 19/100\n",
            "1500/1500 [==============================] - 3s 2ms/step - loss: 0.1579 - accuracy: 0.9406 - val_loss: 0.3378 - val_accuracy: 0.8951\n",
            "Epoch 20/100\n",
            "1500/1500 [==============================] - 3s 2ms/step - loss: 0.1473 - accuracy: 0.9443 - val_loss: 0.3499 - val_accuracy: 0.8936\n",
            "Epoch 21/100\n",
            "1500/1500 [==============================] - 3s 2ms/step - loss: 0.1510 - accuracy: 0.9432 - val_loss: 0.3364 - val_accuracy: 0.8980\n",
            "Epoch 22/100\n",
            "1500/1500 [==============================] - 3s 2ms/step - loss: 0.1442 - accuracy: 0.9453 - val_loss: 0.3647 - val_accuracy: 0.8935\n",
            "Epoch 23/100\n",
            "1500/1500 [==============================] - 3s 2ms/step - loss: 0.1368 - accuracy: 0.9477 - val_loss: 0.3778 - val_accuracy: 0.8891\n",
            "Epoch 24/100\n",
            "1500/1500 [==============================] - 3s 2ms/step - loss: 0.1330 - accuracy: 0.9501 - val_loss: 0.3620 - val_accuracy: 0.8940\n",
            "Epoch 25/100\n",
            "1500/1500 [==============================] - 3s 2ms/step - loss: 0.1269 - accuracy: 0.9529 - val_loss: 0.3916 - val_accuracy: 0.8866\n",
            "Epoch 26/100\n",
            "1500/1500 [==============================] - 3s 2ms/step - loss: 0.1321 - accuracy: 0.9512 - val_loss: 0.4115 - val_accuracy: 0.8954\n",
            "Epoch 27/100\n",
            "1500/1500 [==============================] - 3s 2ms/step - loss: 0.1279 - accuracy: 0.9527 - val_loss: 0.3996 - val_accuracy: 0.8951\n",
            "Epoch 28/100\n",
            "1500/1500 [==============================] - 3s 2ms/step - loss: 0.1224 - accuracy: 0.9535 - val_loss: 0.4082 - val_accuracy: 0.8915\n",
            "Epoch 29/100\n",
            "1500/1500 [==============================] - 3s 2ms/step - loss: 0.1177 - accuracy: 0.9556 - val_loss: 0.3966 - val_accuracy: 0.8970\n",
            "Epoch 30/100\n",
            "1500/1500 [==============================] - 3s 2ms/step - loss: 0.1103 - accuracy: 0.9581 - val_loss: 0.3971 - val_accuracy: 0.8966\n",
            "Epoch 31/100\n",
            "1500/1500 [==============================] - 3s 2ms/step - loss: 0.1126 - accuracy: 0.9581 - val_loss: 0.4194 - val_accuracy: 0.8878\n",
            "Epoch 32/100\n",
            "1500/1500 [==============================] - 3s 2ms/step - loss: 0.1131 - accuracy: 0.9595 - val_loss: 0.4141 - val_accuracy: 0.8942\n",
            "Epoch 33/100\n",
            "1500/1500 [==============================] - 3s 2ms/step - loss: 0.1046 - accuracy: 0.9598 - val_loss: 0.4336 - val_accuracy: 0.8918\n",
            "Epoch 34/100\n",
            "1500/1500 [==============================] - 3s 2ms/step - loss: 0.0996 - accuracy: 0.9614 - val_loss: 0.4132 - val_accuracy: 0.8940\n",
            "Epoch 35/100\n",
            "1500/1500 [==============================] - 3s 2ms/step - loss: 0.0985 - accuracy: 0.9631 - val_loss: 0.4406 - val_accuracy: 0.8934\n",
            "Epoch 36/100\n",
            "1500/1500 [==============================] - 3s 2ms/step - loss: 0.0919 - accuracy: 0.9643 - val_loss: 0.4431 - val_accuracy: 0.8948\n",
            "Epoch 37/100\n",
            "1500/1500 [==============================] - 3s 2ms/step - loss: 0.0948 - accuracy: 0.9642 - val_loss: 0.4315 - val_accuracy: 0.8973\n",
            "Epoch 38/100\n",
            "1500/1500 [==============================] - 3s 2ms/step - loss: 0.0914 - accuracy: 0.9669 - val_loss: 0.4564 - val_accuracy: 0.8934\n",
            "Epoch 39/100\n",
            "1500/1500 [==============================] - 3s 2ms/step - loss: 0.0931 - accuracy: 0.9648 - val_loss: 0.4786 - val_accuracy: 0.8954\n",
            "Epoch 40/100\n",
            "1500/1500 [==============================] - 3s 2ms/step - loss: 0.0894 - accuracy: 0.9666 - val_loss: 0.4767 - val_accuracy: 0.8933\n",
            "Epoch 41/100\n",
            "1500/1500 [==============================] - 3s 2ms/step - loss: 0.0882 - accuracy: 0.9673 - val_loss: 0.4549 - val_accuracy: 0.8958\n",
            "Epoch 42/100\n",
            "1500/1500 [==============================] - 3s 2ms/step - loss: 0.0827 - accuracy: 0.9688 - val_loss: 0.4767 - val_accuracy: 0.8922\n",
            "Epoch 43/100\n",
            "1500/1500 [==============================] - 3s 2ms/step - loss: 0.0831 - accuracy: 0.9698 - val_loss: 0.5189 - val_accuracy: 0.8975\n",
            "Epoch 44/100\n",
            "1500/1500 [==============================] - 3s 2ms/step - loss: 0.0808 - accuracy: 0.9699 - val_loss: 0.4614 - val_accuracy: 0.8938\n",
            "Epoch 45/100\n",
            "1500/1500 [==============================] - 3s 2ms/step - loss: 0.0841 - accuracy: 0.9691 - val_loss: 0.4865 - val_accuracy: 0.8954\n",
            "Epoch 46/100\n",
            "1500/1500 [==============================] - 3s 2ms/step - loss: 0.0755 - accuracy: 0.9706 - val_loss: 0.5220 - val_accuracy: 0.8948\n",
            "Epoch 47/100\n",
            "1500/1500 [==============================] - 3s 2ms/step - loss: 0.0813 - accuracy: 0.9714 - val_loss: 0.5166 - val_accuracy: 0.8923\n",
            "Epoch 48/100\n",
            "1500/1500 [==============================] - 3s 2ms/step - loss: 0.0734 - accuracy: 0.9727 - val_loss: 0.4949 - val_accuracy: 0.8969\n",
            "Epoch 49/100\n",
            "1500/1500 [==============================] - 3s 2ms/step - loss: 0.0676 - accuracy: 0.9746 - val_loss: 0.5229 - val_accuracy: 0.8986\n",
            "Epoch 50/100\n",
            "1500/1500 [==============================] - 3s 2ms/step - loss: 0.0685 - accuracy: 0.9743 - val_loss: 0.5513 - val_accuracy: 0.8880\n",
            "Epoch 51/100\n",
            "1500/1500 [==============================] - 3s 2ms/step - loss: 0.0692 - accuracy: 0.9746 - val_loss: 0.5674 - val_accuracy: 0.8942\n",
            "Epoch 52/100\n",
            "1500/1500 [==============================] - 3s 2ms/step - loss: 0.0715 - accuracy: 0.9733 - val_loss: 0.5308 - val_accuracy: 0.8926\n",
            "Epoch 53/100\n",
            "1500/1500 [==============================] - 3s 2ms/step - loss: 0.0641 - accuracy: 0.9761 - val_loss: 0.5446 - val_accuracy: 0.8911\n",
            "Epoch 54/100\n",
            "1500/1500 [==============================] - 3s 2ms/step - loss: 0.0662 - accuracy: 0.9751 - val_loss: 0.5647 - val_accuracy: 0.8916\n",
            "Epoch 55/100\n",
            "1500/1500 [==============================] - 3s 2ms/step - loss: 0.0666 - accuracy: 0.9753 - val_loss: 0.5608 - val_accuracy: 0.8956\n",
            "Epoch 56/100\n",
            "1500/1500 [==============================] - 3s 2ms/step - loss: 0.0689 - accuracy: 0.9738 - val_loss: 0.5494 - val_accuracy: 0.8958\n",
            "Epoch 57/100\n",
            "1500/1500 [==============================] - 3s 2ms/step - loss: 0.0605 - accuracy: 0.9764 - val_loss: 0.5808 - val_accuracy: 0.8928\n",
            "Epoch 58/100\n",
            "1500/1500 [==============================] - 3s 2ms/step - loss: 0.0615 - accuracy: 0.9774 - val_loss: 0.5703 - val_accuracy: 0.8913\n",
            "Epoch 59/100\n",
            "1500/1500 [==============================] - 3s 2ms/step - loss: 0.0631 - accuracy: 0.9763 - val_loss: 0.6129 - val_accuracy: 0.8898\n",
            "Epoch 60/100\n",
            "1500/1500 [==============================] - 3s 2ms/step - loss: 0.0614 - accuracy: 0.9761 - val_loss: 0.5959 - val_accuracy: 0.8906\n",
            "Epoch 61/100\n",
            "1500/1500 [==============================] - 3s 2ms/step - loss: 0.0649 - accuracy: 0.9749 - val_loss: 0.6087 - val_accuracy: 0.8967\n",
            "Epoch 62/100\n",
            "1500/1500 [==============================] - 3s 2ms/step - loss: 0.0568 - accuracy: 0.9792 - val_loss: 0.6067 - val_accuracy: 0.8952\n",
            "Epoch 63/100\n",
            "1500/1500 [==============================] - 3s 2ms/step - loss: 0.0530 - accuracy: 0.9799 - val_loss: 0.6092 - val_accuracy: 0.8953\n",
            "Epoch 64/100\n",
            "1500/1500 [==============================] - 3s 2ms/step - loss: 0.0509 - accuracy: 0.9815 - val_loss: 0.6315 - val_accuracy: 0.8900\n",
            "Epoch 65/100\n",
            "1500/1500 [==============================] - 3s 2ms/step - loss: 0.0539 - accuracy: 0.9803 - val_loss: 0.6602 - val_accuracy: 0.8878\n",
            "Epoch 66/100\n",
            "1500/1500 [==============================] - 3s 2ms/step - loss: 0.0640 - accuracy: 0.9772 - val_loss: 0.6419 - val_accuracy: 0.8942\n",
            "Epoch 67/100\n",
            "1500/1500 [==============================] - 3s 2ms/step - loss: 0.0539 - accuracy: 0.9792 - val_loss: 0.6395 - val_accuracy: 0.8913\n",
            "Epoch 68/100\n",
            "1500/1500 [==============================] - 3s 2ms/step - loss: 0.0536 - accuracy: 0.9795 - val_loss: 0.6293 - val_accuracy: 0.8957\n",
            "Epoch 69/100\n",
            "1500/1500 [==============================] - 3s 2ms/step - loss: 0.0491 - accuracy: 0.9818 - val_loss: 0.6570 - val_accuracy: 0.8923\n",
            "Epoch 70/100\n",
            "1500/1500 [==============================] - 3s 2ms/step - loss: 0.0514 - accuracy: 0.9812 - val_loss: 0.5999 - val_accuracy: 0.8962\n",
            "Epoch 71/100\n",
            "1500/1500 [==============================] - 3s 2ms/step - loss: 0.0514 - accuracy: 0.9811 - val_loss: 0.6725 - val_accuracy: 0.8922\n",
            "Epoch 72/100\n",
            "1500/1500 [==============================] - 3s 2ms/step - loss: 0.0482 - accuracy: 0.9821 - val_loss: 0.6749 - val_accuracy: 0.8974\n",
            "Epoch 73/100\n",
            "1500/1500 [==============================] - 3s 2ms/step - loss: 0.0527 - accuracy: 0.9801 - val_loss: 0.6682 - val_accuracy: 0.8947\n",
            "Epoch 74/100\n",
            "1500/1500 [==============================] - 3s 2ms/step - loss: 0.0466 - accuracy: 0.9835 - val_loss: 0.6609 - val_accuracy: 0.8949\n",
            "Epoch 75/100\n",
            "1500/1500 [==============================] - 3s 2ms/step - loss: 0.0417 - accuracy: 0.9846 - val_loss: 0.6658 - val_accuracy: 0.8938\n",
            "Epoch 76/100\n",
            "1500/1500 [==============================] - 3s 2ms/step - loss: 0.0459 - accuracy: 0.9834 - val_loss: 0.7154 - val_accuracy: 0.8961\n",
            "Epoch 77/100\n",
            "1500/1500 [==============================] - 3s 2ms/step - loss: 0.0454 - accuracy: 0.9833 - val_loss: 0.7258 - val_accuracy: 0.8895\n",
            "Epoch 78/100\n",
            "1500/1500 [==============================] - 3s 2ms/step - loss: 0.0492 - accuracy: 0.9813 - val_loss: 0.6865 - val_accuracy: 0.8946\n",
            "Epoch 79/100\n",
            "1500/1500 [==============================] - 3s 2ms/step - loss: 0.0440 - accuracy: 0.9838 - val_loss: 0.7484 - val_accuracy: 0.8906\n",
            "Epoch 80/100\n",
            "1500/1500 [==============================] - 3s 2ms/step - loss: 0.0495 - accuracy: 0.9822 - val_loss: 0.7275 - val_accuracy: 0.8947\n",
            "Epoch 81/100\n",
            "1500/1500 [==============================] - 3s 2ms/step - loss: 0.0432 - accuracy: 0.9850 - val_loss: 0.7252 - val_accuracy: 0.8918\n",
            "Epoch 82/100\n",
            "1500/1500 [==============================] - 3s 2ms/step - loss: 0.0399 - accuracy: 0.9850 - val_loss: 0.7334 - val_accuracy: 0.8898\n",
            "Epoch 83/100\n",
            "1500/1500 [==============================] - 3s 2ms/step - loss: 0.0486 - accuracy: 0.9814 - val_loss: 0.7471 - val_accuracy: 0.8950\n",
            "Epoch 84/100\n",
            "1500/1500 [==============================] - 3s 2ms/step - loss: 0.0423 - accuracy: 0.9847 - val_loss: 0.7702 - val_accuracy: 0.8901\n",
            "Epoch 85/100\n",
            "1500/1500 [==============================] - 3s 2ms/step - loss: 0.0411 - accuracy: 0.9850 - val_loss: 0.7135 - val_accuracy: 0.8963\n",
            "Epoch 86/100\n",
            "1500/1500 [==============================] - 3s 2ms/step - loss: 0.0486 - accuracy: 0.9842 - val_loss: 0.7296 - val_accuracy: 0.8917\n",
            "Epoch 87/100\n",
            "1500/1500 [==============================] - 3s 2ms/step - loss: 0.0394 - accuracy: 0.9854 - val_loss: 0.7479 - val_accuracy: 0.8931\n",
            "Epoch 88/100\n",
            "1500/1500 [==============================] - 3s 2ms/step - loss: 0.0362 - accuracy: 0.9871 - val_loss: 0.7645 - val_accuracy: 0.8957\n",
            "Epoch 89/100\n",
            "1500/1500 [==============================] - 3s 2ms/step - loss: 0.0394 - accuracy: 0.9863 - val_loss: 0.7498 - val_accuracy: 0.8956\n",
            "Epoch 90/100\n",
            "1500/1500 [==============================] - 3s 2ms/step - loss: 0.0390 - accuracy: 0.9856 - val_loss: 0.7964 - val_accuracy: 0.8953\n",
            "Epoch 91/100\n",
            "1500/1500 [==============================] - 3s 2ms/step - loss: 0.0404 - accuracy: 0.9848 - val_loss: 0.7773 - val_accuracy: 0.8923\n",
            "Epoch 92/100\n",
            "1500/1500 [==============================] - 3s 2ms/step - loss: 0.0325 - accuracy: 0.9881 - val_loss: 0.8056 - val_accuracy: 0.8932\n",
            "Epoch 93/100\n",
            "1500/1500 [==============================] - 3s 2ms/step - loss: 0.0436 - accuracy: 0.9847 - val_loss: 0.7801 - val_accuracy: 0.8913\n",
            "Epoch 94/100\n",
            "1500/1500 [==============================] - 3s 2ms/step - loss: 0.0381 - accuracy: 0.9869 - val_loss: 0.7799 - val_accuracy: 0.8931\n",
            "Epoch 95/100\n",
            "1500/1500 [==============================] - 3s 2ms/step - loss: 0.0408 - accuracy: 0.9857 - val_loss: 0.7786 - val_accuracy: 0.8914\n",
            "Epoch 96/100\n",
            "1500/1500 [==============================] - 3s 2ms/step - loss: 0.0344 - accuracy: 0.9876 - val_loss: 0.8050 - val_accuracy: 0.8942\n",
            "Epoch 97/100\n",
            "1500/1500 [==============================] - 3s 2ms/step - loss: 0.0389 - accuracy: 0.9864 - val_loss: 0.8400 - val_accuracy: 0.8907\n",
            "Epoch 98/100\n",
            "1500/1500 [==============================] - 3s 2ms/step - loss: 0.0333 - accuracy: 0.9874 - val_loss: 0.7998 - val_accuracy: 0.8928\n",
            "Epoch 99/100\n",
            "1500/1500 [==============================] - 3s 2ms/step - loss: 0.0330 - accuracy: 0.9879 - val_loss: 0.8303 - val_accuracy: 0.8934\n",
            "Epoch 100/100\n",
            "1500/1500 [==============================] - 3s 2ms/step - loss: 0.0381 - accuracy: 0.9867 - val_loss: 0.8150 - val_accuracy: 0.8912\n"
          ],
          "name": "stdout"
        }
      ]
    },
    {
      "cell_type": "markdown",
      "metadata": {
        "id": "UuZuP_gwTLqv"
      },
      "source": [
        "Con el conjunto de test, evaluamos el modelo entrenado:"
      ]
    },
    {
      "cell_type": "code",
      "metadata": {
        "id": "jag5mt9WetSw",
        "colab": {
          "base_uri": "https://localhost:8080/"
        },
        "outputId": "cb6a72ff-f974-4823-86dc-e7222cb58ad5"
      },
      "source": [
        "model.evaluate(x_test, y_test)"
      ],
      "execution_count": null,
      "outputs": [
        {
          "output_type": "stream",
          "text": [
            "313/313 [==============================] - 1s 2ms/step - loss: 0.9222 - accuracy: 0.8871\n"
          ],
          "name": "stdout"
        },
        {
          "output_type": "execute_result",
          "data": {
            "text/plain": [
              "[0.9222197532653809, 0.8870999813079834]"
            ]
          },
          "metadata": {
            "tags": []
          },
          "execution_count": 10
        }
      ]
    },
    {
      "cell_type": "markdown",
      "metadata": {
        "id": "wJVCHyusTxl5"
      },
      "source": [
        "Con las siguientes gráficas podemos concluir que el modelo entrenado sufre de overfitting:"
      ]
    },
    {
      "cell_type": "code",
      "metadata": {
        "id": "vfp-QtYLty9x",
        "colab": {
          "base_uri": "https://localhost:8080/",
          "height": 295
        },
        "outputId": "c84d5790-1e57-48d6-f8a3-e64a96133926"
      },
      "source": [
        "# summarize history for accuracy\n",
        "plt.plot(history.history['accuracy'])\n",
        "plt.plot(history.history['val_accuracy'])\n",
        "plt.title('model accuracy')\n",
        "plt.ylabel('accuracy')\n",
        "plt.xlabel('epoch')\n",
        "plt.legend(['train', 'test'], loc='upper left')\n",
        "plt.show()"
      ],
      "execution_count": null,
      "outputs": [
        {
          "output_type": "display_data",
          "data": {
            "image/png": "[encoded data removed]",
            "text/plain": [
              "<Figure size 432x288 with 1 Axes>"
            ]
          },
          "metadata": {
            "tags": [],
            "needs_background": "light"
          }
        }
      ]
    },
    {
      "cell_type": "code",
      "metadata": {
        "id": "3LRcr7g6t14K",
        "colab": {
          "base_uri": "https://localhost:8080/",
          "height": 295
        },
        "outputId": "d6a330a5-e6d3-46ad-a2de-a00959dc8a8d"
      },
      "source": [
        "# summarize history for loss\n",
        "plt.plot(history.history['loss'])\n",
        "plt.plot(history.history['val_loss'])\n",
        "plt.title('model loss')\n",
        "plt.ylabel('loss')\n",
        "plt.xlabel('epoch')\n",
        "plt.legend(['train', 'test'], loc='upper left')\n",
        "plt.show()"
      ],
      "execution_count": null,
      "outputs": [
        {
          "output_type": "display_data",
          "data": {
            "image/png": "[encoded data removed]",
            "text/plain": [
              "<Figure size 432x288 with 1 Axes>"
            ]
          },
          "metadata": {
            "tags": [],
            "needs_background": "light"
          }
        }
      ]
    },
    {
      "cell_type": "code",
      "metadata": {
        "colab": {
          "base_uri": "https://localhost:8080/"
        },
        "id": "CRqwWGidmkue",
        "outputId": "1820df2f-e08e-4e72-ea65-f0cc5c04b030"
      },
      "source": [
        "from google.colab import drive\r\n",
        "drive.mount(\"/content/gdrive\")"
      ],
      "execution_count": null,
      "outputs": [
        {
          "output_type": "stream",
          "text": [
            "Mounted at /content/gdrive\n"
          ],
          "name": "stdout"
        }
      ]
    },
    {
      "cell_type": "code",
      "metadata": {
        "id": "QxFejN5pt3ib"
      },
      "source": [
        "OUT_MODEL_PATH= '/content/gdrive/MyDrive/Curso-Jetson/models'\r\n",
        "model.save(os.path.join(OUT_MODEL_PATH, 'model-final-pract1.hdf5'))"
      ],
      "execution_count": null,
      "outputs": []
    },
    {
      "cell_type": "code",
      "metadata": {
        "colab": {
          "base_uri": "https://localhost:8080/"
        },
        "id": "xoe8ZdCEjjD1",
        "outputId": "1e7c07b2-a6cf-46cf-b42b-b2c83ec431ca"
      },
      "source": [
        "!ls '/content/gdrive/MyDrive/Curso-Jetson/models'"
      ],
      "execution_count": null,
      "outputs": [
        {
          "output_type": "stream",
          "text": [
            "model-final-pract1.hdf5\n"
          ],
          "name": "stdout"
        }
      ]
    },
    {
      "cell_type": "code",
      "metadata": {
        "id": "V0bTejfMrZmj"
      },
      "source": [
        ""
      ],
      "execution_count": null,
      "outputs": []
    }
  ]
}